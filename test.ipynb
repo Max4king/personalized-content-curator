{
 "cells": [
  {
   "cell_type": "code",
   "execution_count": 13,
   "metadata": {},
   "outputs": [],
   "source": [
    "import requests\n",
    "from dotenv import load_dotenv"
   ]
  },
  {
   "cell_type": "code",
   "execution_count": 14,
   "metadata": {},
   "outputs": [],
   "source": [
    "load_dotenv()\n",
    "\n",
    "user_preferences = {\n",
    "    \"interests\": [\"Technology\", \"Science\", \"Art\"],\n",
    "    \"content_types\": [\"Article\", \"Tutorial\"],\n",
    "    \"text_format\": \"summary\"\n",
    "}\n",
    "\n",
    "mock_content = [\n",
    "    {\"title\": \"The Future of Tech: Innovations to Watch\", \"category\": \"Technology\", \"type\": \"Article\", \"summary\": \"Explore the cutting-edge technologies shaping our future, from AI advancements to sustainable energy solutions.\"},\n",
    "    {\"title\": \"Beginner's Guide to Digital Art\", \"category\": \"Art\", \"type\": \"Tutorial\", \"summary\": \"Step into the world of digital art with this comprehensive tutorial for beginners. Learn about tools, techniques, and tips to start your digital art journey.\"},\n",
    "    {\"title\": \"Understanding Quantum Computing\", \"category\": \"Science\", \"type\": \"Article\", \"summary\": \"Dive into the complex world of quantum computing and discover how it's set to revolutionize technology with unparalleled computational power.\"},\n",
    "    {\"title\": \"The Renaissance Art Movement\", \"category\": \"Art\", \"type\": \"Summary\", \"summary\": \"A brief overview of the Renaissance period, highlighting its most influential artists and their timeless masterpieces.\"},\n",
    "    {\"title\": \"DIY Home Robotics Projects\", \"category\": \"Technology\", \"type\": \"Tutorial\", \"summary\": \"Get hands-on with technology by exploring these simple yet fascinating DIY robotics projects you can build at home.\"},\n",
    "    {\"title\": \"The Mysteries of Dark Matter\", \"category\": \"Science\", \"type\": \"Article\", \"summary\": \"Join us on a journey through the cosmos as we explore the enigmatic nature of dark matter and its role in the universe.\"},\n",
    "    {\"title\": \"Creative Writing Tips for Beginners\", \"category\": \"Art\", \"type\": \"Tutorial\", \"summary\": \"Unlock your creative potential with these essential writing tips, perfect for aspiring authors starting their journey.\"},\n",
    "    {\"title\": \"Innovative Eco-Friendly Technologies\", \"category\": \"Technology\", \"type\": \"Summary\", \"summary\": \"Discover how innovative technologies are paving the way for a more sustainable future, focusing on renewable energy sources and eco-friendly solutions.\"},\n",
    "    {\"title\": \"Exploring the Human Genome\", \"category\": \"Science\", \"type\": \"Summary\", \"summary\": \"An insightful summary of what the human genome project has taught us and how it continues to influence scientific research and medical advancements.\"},\n",
    "    {\"title\": \"Photography Basics: Capturing the Moment\", \"category\": \"Art\", \"type\": \"Article\", \"summary\": \"Learn the fundamentals of photography with this guide, from understanding your camera to composing the perfect shot.\"},\n",
    "]\n"
   ]
  },
  {
   "cell_type": "code",
   "execution_count": 15,
   "metadata": {},
   "outputs": [
    {
     "name": "stdout",
     "output_type": "stream",
     "text": [
      "{'interests': ['Technology', 'Art'], 'content_types': ['Article', 'Tutorial']}\n"
     ]
    }
   ],
   "source": [
    "def set_user_preferences(interests, content_types):\n",
    "    return {\n",
    "        \"interests\": interests,\n",
    "        \"content_types\": content_types\n",
    "    }\n",
    "\n",
    "# Example of setting preferences\n",
    "user_preferences = set_user_preferences([\"Technology\", \"Art\"], [\"Article\", \"Tutorial\"])\n",
    "\n",
    "print(user_preferences)\n"
   ]
  },
  {
   "cell_type": "code",
   "execution_count": 16,
   "metadata": {},
   "outputs": [
    {
     "name": "stdout",
     "output_type": "stream",
     "text": [
      "[{'title': 'The Future of Tech: Innovations to Watch', 'category': 'Technology', 'type': 'Article', 'summary': 'Explore the cutting-edge technologies shaping our future, from AI advancements to sustainable energy solutions.'}, {'title': \"Beginner's Guide to Digital Art\", 'category': 'Art', 'type': 'Tutorial', 'summary': 'Step into the world of digital art with this comprehensive tutorial for beginners. Learn about tools, techniques, and tips to start your digital art journey.'}, {'title': 'DIY Home Robotics Projects', 'category': 'Technology', 'type': 'Tutorial', 'summary': 'Get hands-on with technology by exploring these simple yet fascinating DIY robotics projects you can build at home.'}, {'title': 'Creative Writing Tips for Beginners', 'category': 'Art', 'type': 'Tutorial', 'summary': 'Unlock your creative potential with these essential writing tips, perfect for aspiring authors starting their journey.'}, {'title': 'Photography Basics: Capturing the Moment', 'category': 'Art', 'type': 'Article', 'summary': 'Learn the fundamentals of photography with this guide, from understanding your camera to composing the perfect shot.'}]\n"
     ]
    }
   ],
   "source": [
    "\n",
    "\n",
    "def generate_content(preferences):\n",
    "    # Filter content based on user preferences\n",
    "    filtered_content = [content for content in mock_content if content[\"category\"] in preferences[\"interests\"] and content[\"type\"] in preferences[\"content_types\"]]\n",
    "    return filtered_content\n",
    "\n",
    "# Example usage\n",
    "personalized_content = generate_content(user_preferences)\n",
    "print(personalized_content)\n"
   ]
  },
  {
   "cell_type": "code",
   "execution_count": 33,
   "metadata": {},
   "outputs": [
    {
     "name": "stdout",
     "output_type": "stream",
     "text": [
      "This is a test."
     ]
    }
   ],
   "source": [
    "from openai import OpenAI\n",
    "\n",
    "client = OpenAI()\n",
    "\n",
    "stream = client.chat.completions.create(\n",
    "    model=\"gpt-4-turbo-preview\",\n",
    "    messages=[\n",
    "            {\"role\": \"system\", \"content\": \"You are an AI who writes a summary of the article.\"},\n",
    "            {\"role\": \"user\", \"content\": \"Say this is a test\"},\n",
    "        ]\n",
    "        ,\n",
    "    stream=True,\n",
    ")\n",
    "for chunk in stream:\n",
    "    if chunk.choices[0].delta.content is not None:\n",
    "        print(chunk.choices[0].delta.content, end=\"\")"
   ]
  },
  {
   "cell_type": "markdown",
   "metadata": {},
   "source": [
    "# LANGCHAIN PROTOTYPE"
   ]
  },
  {
   "cell_type": "code",
   "execution_count": 25,
   "metadata": {},
   "outputs": [],
   "source": [
    "from langchain.llms import OpenAI\n",
    "from langchain.prompts import PromptTemplate\n",
    "from langchain.chains import LLMChain\n",
    "import os"
   ]
  },
  {
   "cell_type": "markdown",
   "metadata": {},
   "source": []
  },
  {
   "cell_type": "code",
   "execution_count": 29,
   "metadata": {},
   "outputs": [
    {
     "name": "stdout",
     "output_type": "stream",
     "text": [
      "{'title': 'Sustainable Living Summary', 'content': \" Imagine a world where the air is clean, the oceans are full of life, and the land is thriving with greenery. This is the vision of sustainable living - a lifestyle that strives to meet the present needs without compromising the ability of future generations to meet their own needs.\\n\\nSustainable living is a way of life that focuses on reducing our carbon footprint and preserving the Earth's resources for future generations. It involves making conscious choices in our daily activities, such as reducing energy and water consumption, using eco-friendly products, and promoting biodiversity.\\n\\nAt its core, sustainable living is about finding a balance between our needs and the needs of the environment. It is not about giving up modern comforts, but rather finding ways to live in harmony with nature. This can be achieved through small but impactful changes in our habits, such as using public transportation, composting, and buying locally-sourced products.\\n\\nOne of the key components of sustainable living is reducing our carbon footprint. This means reducing the amount of greenhouse gases we emit into the atmosphere through activities like driving cars, using electricity, and consuming products that require a lot of energy to produce. By minimizing our carbon footprint, we can help slow down the effects of climate change and protect the planet for future generations.\\n\\nAnother important aspect of sustainable living is\"}\n"
     ]
    }
   ],
   "source": [
    "llm = OpenAI(openai_api_key=os.getenv(\"OPENAI_API_KEY\"))\n",
    "\n",
    "\n",
    "def generate_content_with_langchain(interest, content_type):\n",
    "    # Craft a prompt based on user interest and desired content type\n",
    "    template = \"\"\"Question: {question}\n",
    "\n",
    "    Answer: Let's think step by step.\"\"\"\n",
    "\n",
    "    prompt = PromptTemplate.from_template(template)\n",
    "    question_template = \"\"\"Create a {content_type} about {interest}. \n",
    "    It should be engaging and informative.\"\"\"\n",
    "    question = question_template.format(content_type=content_type, interest=interest)\n",
    "    # Use Langchain's OpenAI LLM to generate content\n",
    "    # Note: Adjust the parameters according to your requirements\n",
    "    llm_chain = LLMChain(prompt=prompt, llm=llm)\n",
    "    # Extracting the generated content\n",
    "    generated_content = llm_chain.run(question)\n",
    "\n",
    "    return {\n",
    "        \"title\": f\"{interest} {content_type}\",\n",
    "        \"content\": generated_content\n",
    "    }\n",
    "\n",
    "# Example usage\n",
    "interest = \"Sustainable Living\"\n",
    "content_type = \"Summary\"\n",
    "generated_content = generate_content_with_langchain(interest, content_type)\n",
    "print(generated_content)"
   ]
  },
  {
   "cell_type": "code",
   "execution_count": 31,
   "metadata": {},
   "outputs": [
    {
     "name": "stdout",
     "output_type": "stream",
     "text": [
      " Imagine a world where the air is clean, the oceans are full of life, and the land is thriving with greenery. This is the vision of sustainable living - a lifestyle that strives to meet the present needs without compromising the ability of future generations to meet their own needs.\n",
      "\n",
      "Sustainable living is a way of life that focuses on reducing our carbon footprint and preserving the Earth's resources for future generations. It involves making conscious choices in our daily activities, such as reducing energy and water consumption, using eco-friendly products, and promoting biodiversity.\n",
      "\n",
      "At its core, sustainable living is about finding a balance between our needs and the needs of the environment. It is not about giving up modern comforts, but rather finding ways to live in harmony with nature. This can be achieved through small but impactful changes in our habits, such as using public transportation, composting, and buying locally-sourced products.\n",
      "\n",
      "One of the key components of sustainable living is reducing our carbon footprint. This means reducing the amount of greenhouse gases we emit into the atmosphere through activities like driving cars, using electricity, and consuming products that require a lot of energy to produce. By minimizing our carbon footprint, we can help slow down the effects of climate change and protect the planet for future generations.\n",
      "\n",
      "Another important aspect of sustainable living is\n"
     ]
    }
   ],
   "source": [
    "print(generated_content[\"content\"])"
   ]
  },
  {
   "cell_type": "code",
   "execution_count": 3,
   "metadata": {},
   "outputs": [],
   "source": [
    "from operator import itemgetter\n",
    "\n",
    "from langchain_community.vectorstores import FAISS\n",
    "from langchain_core.output_parsers import StrOutputParser\n",
    "from langchain_core.prompts import ChatPromptTemplate\n",
    "from langchain_core.runnables import RunnableLambda, RunnablePassthrough\n",
    "from langchain_openai import ChatOpenAI, OpenAIEmbeddings"
   ]
  },
  {
   "cell_type": "code",
   "execution_count": 4,
   "metadata": {},
   "outputs": [],
   "source": [
    "vectorstore = FAISS.from_texts(\n",
    "    [\"harrison worked at kensho\"], embedding=OpenAIEmbeddings()\n",
    ")\n",
    "retriever = vectorstore.as_retriever()\n",
    "\n",
    "template = \"\"\"Answer the question based only on the following context:\n",
    "{context}\n",
    "\n",
    "Question: {question}\n",
    "\"\"\"\n",
    "prompt = ChatPromptTemplate.from_template(template)\n",
    "\n",
    "model = ChatOpenAI()"
   ]
  },
  {
   "cell_type": "code",
   "execution_count": 5,
   "metadata": {},
   "outputs": [],
   "source": [
    "chain = (\n",
    "    {\"context\": retriever, \"question\": RunnablePassthrough()}\n",
    "    | prompt\n",
    "    | model\n",
    "    | StrOutputParser()\n",
    ")"
   ]
  },
  {
   "cell_type": "code",
   "execution_count": 6,
   "metadata": {},
   "outputs": [
    {
     "data": {
      "text/plain": [
       "'Harrison worked at Kensho.'"
      ]
     },
     "execution_count": 6,
     "metadata": {},
     "output_type": "execute_result"
    }
   ],
   "source": [
    "chain.invoke(\"where did harrison work?\")"
   ]
  },
  {
   "cell_type": "markdown",
   "metadata": {},
   "source": [
    "# TruLens"
   ]
  },
  {
   "cell_type": "code",
   "execution_count": 4,
   "metadata": {},
   "outputs": [],
   "source": [
    "from dotenv import load_dotenv\n",
    "load_dotenv()\n",
    "# Imports main tools:\n",
    "from trulens_eval import TruChain, Feedback, Tru\n",
    "tru = Tru()\n",
    "tru.reset_database()\n",
    "\n",
    "# Imports from langchain to build app\n",
    "import bs4\n",
    "from langchain import hub\n",
    "from langchain_openai import ChatOpenAI\n",
    "from langchain.document_loaders import WebBaseLoader\n",
    "from langchain_openai import OpenAIEmbeddings\n",
    "from langchain.schema import StrOutputParser\n",
    "from langchain.text_splitter import RecursiveCharacterTextSplitter\n",
    "from langchain.vectorstores import Chroma\n",
    "from langchain_core.runnables import RunnablePassthrough"
   ]
  },
  {
   "cell_type": "code",
   "execution_count": 5,
   "metadata": {},
   "outputs": [],
   "source": [
    "loader = WebBaseLoader(\n",
    "    web_paths=(\"https://lilianweng.github.io/posts/2023-06-23-agent/\",),\n",
    "    bs_kwargs=dict(\n",
    "        parse_only=bs4.SoupStrainer(\n",
    "            class_=(\"post-content\", \"post-title\", \"post-header\")\n",
    "        )\n",
    "    ),\n",
    ")\n",
    "docs = loader.load()"
   ]
  },
  {
   "cell_type": "code",
   "execution_count": 6,
   "metadata": {},
   "outputs": [],
   "source": [
    "text_splitter = RecursiveCharacterTextSplitter(\n",
    "    chunk_size=1000,\n",
    "    chunk_overlap=200\n",
    ")\n",
    "\n",
    "splits = text_splitter.split_documents(docs)\n",
    "\n",
    "vectorstore = Chroma.from_documents(\n",
    "    documents=splits,\n",
    "    embedding=OpenAIEmbeddings()\n",
    ")"
   ]
  },
  {
   "cell_type": "code",
   "execution_count": 8,
   "metadata": {},
   "outputs": [
    {
     "name": "stderr",
     "output_type": "stream",
     "text": [
      "/home/ryan/Program/myProject/personalized-content-curator/venv/lib/python3.11/site-packages/langchain_core/_api/deprecation.py:117: LangChainDeprecationWarning: The class `langchain_community.chat_models.openai.ChatOpenAI` was deprecated in langchain-community 0.0.10 and will be removed in 0.2.0. An updated version of the class exists in the langchain-openai package and should be used instead. To use it run `pip install -U langchain-openai` and import as `from langchain_openai import ChatOpenAI`.\n",
      "  warn_deprecated(\n"
     ]
    }
   ],
   "source": [
    "retriever = vectorstore.as_retriever()\n",
    "\n",
    "prompt = hub.pull(\"rlm/rag-prompt\")\n",
    "llm = ChatOpenAI(model_name=\"gpt-3.5-turbo\", temperature=0)\n",
    "\n",
    "def format_docs(docs):\n",
    "    return \"\\n\\n\".join(doc.page_content for doc in docs)\n",
    "\n",
    "rag_chain = (\n",
    "    {\"context\": retriever | format_docs, \"question\": RunnablePassthrough()}\n",
    "    | prompt\n",
    "    | llm\n",
    "    | StrOutputParser()\n",
    ")"
   ]
  },
  {
   "cell_type": "code",
   "execution_count": null,
   "metadata": {},
   "outputs": [],
   "source": [
    "tru.run_dashboard()"
   ]
  }
 ],
 "metadata": {
  "kernelspec": {
   "display_name": "venv",
   "language": "python",
   "name": "python3"
  },
  "language_info": {
   "codemirror_mode": {
    "name": "ipython",
    "version": 3
   },
   "file_extension": ".py",
   "mimetype": "text/x-python",
   "name": "python",
   "nbconvert_exporter": "python",
   "pygments_lexer": "ipython3",
   "version": "3.11.7"
  }
 },
 "nbformat": 4,
 "nbformat_minor": 2
}
